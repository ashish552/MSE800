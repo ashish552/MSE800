{
 "cells": [
  {
   "cell_type": "code",
   "execution_count": 2,
   "id": "a72e47ed",
   "metadata": {},
   "outputs": [
    {
     "name": "stdout",
     "output_type": "stream",
     "text": [
      "Number of double underscore: 2\n"
     ]
    }
   ],
   "source": [
    "\n",
    "# file_path = \"sample_text.txt\"\n",
    "\n",
    "underscore_count = 0\n",
    "\n",
    "\n",
    "with open(\"sample_text.txt\", \"r\") as file:\n",
    "    for line in file:\n",
    "        underscore_count += line.count(\"__\")\n",
    "\n",
    "\n",
    "print(f\"Number of double underscore: {underscore_count}\")\n"
   ]
  },
  {
   "cell_type": "code",
   "execution_count": 12,
   "id": "bee0d7d7",
   "metadata": {},
   "outputs": [
    {
     "name": "stdout",
     "output_type": "stream",
     "text": [
      "Number of features: 12\n"
     ]
    }
   ],
   "source": [
    "import pandas as pd\n",
    "\n",
    "df = pd.read_parquet(\"Sample_data_2.parquet\")  \n",
    "\n",
    "\n",
    "print(\"Number of features:\", df.shape[1])"
   ]
  },
  {
   "cell_type": "code",
   "execution_count": null,
   "id": "269b9ef8",
   "metadata": {},
   "outputs": [
    {
     "name": "stdout",
     "output_type": "stream",
     "text": [
      "Number of records in the Parquet file: 1000000\n"
     ]
    }
   ],
   "source": [
    "import pandas as pd\n",
    "\n",
    "df = pd.read_parquet(\"Sample-1m.parquet\")\n",
    "\n",
    "num_records = df.shape[0]\n",
    "\n",
    "print(f\"Number of records in the Parquet file: {num_records}\")\n"
   ]
  },
  {
   "cell_type": "code",
   "execution_count": null,
   "id": "df145e64",
   "metadata": {},
   "outputs": [],
   "source": []
  }
 ],
 "metadata": {
  "kernelspec": {
   "display_name": "python",
   "language": "python",
   "name": "python3"
  },
  "language_info": {
   "codemirror_mode": {
    "name": "ipython",
    "version": 3
   },
   "file_extension": ".py",
   "mimetype": "text/x-python",
   "name": "python",
   "nbconvert_exporter": "python",
   "pygments_lexer": "ipython3",
   "version": "3.10.13"
  }
 },
 "nbformat": 4,
 "nbformat_minor": 5
}
